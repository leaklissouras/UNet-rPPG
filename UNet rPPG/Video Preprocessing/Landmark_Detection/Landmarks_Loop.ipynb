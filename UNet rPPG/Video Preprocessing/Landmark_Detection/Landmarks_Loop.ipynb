{
 "cells": [
  {
   "cell_type": "markdown",
   "id": "c90c4037-0153-4b76-8fc6-7cd054e15b58",
   "metadata": {},
   "source": [
    "## Landmark Detection"
   ]
  },
  {
   "cell_type": "markdown",
   "id": "a984f388-45eb-48f8-abbc-4024595e3e7f",
   "metadata": {},
   "source": [
    "This code uses dlib face detector(http://dlib.net/) to determine (x,y) coordinates of 81 landmarks. The input is video files, and the output is a matrix for each frame. These matrices serve as inputs for MST Map generation.  "
   ]
  },
  {
   "cell_type": "code",
   "execution_count": null,
   "id": "435b18bb-c227-470f-ad50-f89d96f898ed",
   "metadata": {},
   "outputs": [],
   "source": [
    "import argparse\n",
    "import imutils\n",
    "import time\n",
    "import dlib\n",
    "import cv2\n",
    "import os\n",
    "from skimage import io\n",
    "import numpy as np\n",
    "import glob\n",
    "import sys\n",
    "import scipy.io\n",
    "import re\n",
    "import time\n",
    "from matplotlib import pyplot as plt \n",
    "import pylab \n",
    "pylab.rcParams['figure.figsize'] = (10.0, 8.0) "
   ]
  },
  {
   "cell_type": "code",
   "execution_count": null,
   "id": "657ed1ce-b21c-455c-9175-d57b6a5aec20",
   "metadata": {},
   "outputs": [],
   "source": [
    "#initialize paths and variables\n",
    "#os.chdir(Video Path) Change to video path if not videos saved in same folder as file \n",
    "path = os.getcwd()\n",
    "\n",
    "videos = glob.glob(os.path.join(path,\"subject*/vid.avi\"))"
   ]
  },
  {
   "cell_type": "code",
   "execution_count": null,
   "id": "464779a6-176b-4b07-95e9-336c35e3f936",
   "metadata": {},
   "outputs": [],
   "source": [
    "def getFrames(vid_path, save_path, subject_number):\n",
    "    frame_list = [];\n",
    "    vidObj = cv2.VideoCapture(vid_path)\n",
    "    if vidObj.isOpened():\n",
    "        current_frame = 0\n",
    "        while True:\n",
    "            ret, frame = vidObj.read()\n",
    "            if ret:\n",
    "                name = f\"{save_path}/frame_{current_frame}.jpg\" \n",
    "                cv2.imwrite(name,frame)\n",
    "                current_frame +=1\n",
    "                frame_list.append(name)\n",
    "            else:\n",
    "                break\n",
    "        vidObj.release()\n",
    "    cv2.destroyAllWindows()\n",
    "    print(f\"[Info] Frames successful for subject {subject_number}\")\n",
    "    return frame_list"
   ]
  },
  {
   "cell_type": "code",
   "execution_count": null,
   "id": "b50008cf-2bf9-4e9a-963b-f707b6310537",
   "metadata": {},
   "outputs": [],
   "source": [
    "def make_detector_matrix(image_filename):\n",
    "\n",
    "    detector = dlib.get_frontal_face_detector() #load in detector\n",
    "    image = cv2.imread(image_filename)\n",
    "    #image = imutils.resize(image, width=600) #changing to test if this is causing the issue\n",
    "    rgb = cv2.cvtColor(image, cv2.COLOR_BGR2RGB)\n",
    "\n",
    "    predictor_path = os.path.join(path,\"/Landmark_Detection/shape_predictor_81_face_landmarks.dat\")\n",
    "    \n",
    "    detector = dlib.get_frontal_face_detector()\n",
    "    predictor = dlib.shape_predictor(predictor_path)\n",
    "    dets = detector(rgb,0)\n",
    "\n",
    "    for k,d in enumerate(dets):\n",
    "        shape = predictor(rgb,d)\n",
    "        landmarks = np.array([[p.x,p.y] for p in shape.parts()]) #!!!!! This is the landmarks file\n",
    "\n",
    "    reshaped = np.reshape(landmarks,(162,1))\n",
    "\n",
    "    new_matrix = np.zeros(162)\n",
    "    for i in range(0,162):\n",
    "        new_matrix[i] = int(reshaped[i][0])\n",
    "    new_matrix_dict = {'landmarks': new_matrix}\n",
    "    return new_matrix_dict"
   ]
  },
  {
   "cell_type": "code",
   "execution_count": null,
   "id": "a9be1e8b-678a-453f-8522-3f2e451a50ec",
   "metadata": {},
   "outputs": [],
   "source": [
    "for i in videos:\n",
    "    start_time = time.time()\n",
    "    subject_number = i[-10:-8]\n",
    "    try:\n",
    "        subject_number = subject_number.replace('t','')\n",
    "    except:\n",
    "        pass\n",
    "    print(i)\n",
    "    directory = f\"/Landmarks/{subject_number}\"\n",
    "    make_path = os.path.join(path,directory)\n",
    "    make_path2 = os.path.join(make_path,\"arrays\")\n",
    "    #os.mkdir(make_path)\n",
    "    os.mkdir(make_path2)\n",
    "    \n",
    "    frame_names = getFrames(i,make_path,subject_number)\n",
    "    #frame_sorted = sorted(glob.glob(f\"Code/Landmarks/{subject_number}/*.jpg\"), key=lambda x: int(re.findall(r'\\d+', x)[0]))\n",
    "    #note: frame_names is already sorted\n",
    "    \n",
    "    current_frame = -1 #initializing for array loop (so it will start at 0)\n",
    "    for j in frame_names:\n",
    "        current_frame+=1\n",
    "        try:\n",
    "            new_matrix_dict = make_detector_matrix(j)\n",
    "            scipy.io.savemat(f'{make_path2}/frame_{current_frame}.mat',new_matrix_dict)\n",
    "        except:\n",
    "            scipy.io.savemat(f'{make_path2}/frame_{current_frame}.mat',new_matrix_dict)\n",
    "            print(f\"Error detecting landmarks for frame {current_frame}. Using previous frame\")\n",
    "    print(f\"Subject {subject_number} took {time.time()-start_time} long\")\n",
    "    "
   ]
  }
 ],
 "metadata": {
  "kernelspec": {
   "display_name": "Python 3 (ipykernel)",
   "language": "python",
   "name": "python3"
  },
  "language_info": {
   "codemirror_mode": {
    "name": "ipython",
    "version": 3
   },
   "file_extension": ".py",
   "mimetype": "text/x-python",
   "name": "python",
   "nbconvert_exporter": "python",
   "pygments_lexer": "ipython3",
   "version": "3.10.14"
  }
 },
 "nbformat": 4,
 "nbformat_minor": 5
}
